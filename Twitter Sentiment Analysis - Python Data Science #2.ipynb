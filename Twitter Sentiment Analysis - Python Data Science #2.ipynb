{
 "cells": [
  {
   "cell_type": "code",
   "execution_count": 2,
   "metadata": {},
   "outputs": [],
   "source": [
    "import tweepy #An easy-to-use Python library for accessing the Twitter API.\n",
    "from textblob import TextBlob\n",
    "# TextBlob is a Python (2 and 3) library for processing textual data. It provides a simple API for diving into common natural language processing (NLP) tasks such as part-of-speech tagging, noun phrase extraction, sentiment analysis, classification, translation, and more."
   ]
  },
  {
   "cell_type": "code",
   "execution_count": 19,
   "metadata": {},
   "outputs": [],
   "source": [
    "#Download from https://developer.twitter.com/    Apps keys and tokens\n",
    "consumer_key = \"gaotNxAHDnrHvTgVVjlddzbgp\"\n",
    "consumer_secret = \"QauM5qAMOyZ8326XzuRcNbbdjHZrJRIGKbiIqzZ6QwdenJisjJ\"\n",
    "\n",
    "access_token = \"1072612111568777223-K5OdWKvBczN15nDhSUTdmPw51IwNMo\"\n",
    "access_token_secret = \"RX6aC2o8nalqTCNy0IvbuaBJDJ9PiS1vZrkzcsJ4NVejE\""
   ]
  },
  {
   "cell_type": "code",
   "execution_count": 20,
   "metadata": {},
   "outputs": [],
   "source": [
    "auth = tweepy.OAuthHandler(consumer_key, consumer_secret)\n",
    "auth.set_access_token(access_token, access_token_secret)"
   ]
  },
  {
   "cell_type": "code",
   "execution_count": 21,
   "metadata": {},
   "outputs": [],
   "source": [
    "api = tweepy.API(auth)"
   ]
  },
  {
   "cell_type": "code",
   "execution_count": 22,
   "metadata": {},
   "outputs": [],
   "source": [
    "public_tweets = api.search('Trump')"
   ]
  },
  {
   "cell_type": "code",
   "execution_count": 26,
   "metadata": {},
   "outputs": [
    {
     "name": "stdout",
     "output_type": "stream",
     "text": [
      "RT @standfortruth10: Thank you @realDonaldTrump for canceling the White House Press Christmas Party. Those vultures do not deserve a party.…\n",
      "Sentiment(polarity=0.0, subjectivity=0.0)\n",
      "\n",
      "RT @matthewamiller: So Donald Trump's private business, campaign, transition, inaugural committee, and White House are all under criminal i…\n",
      "Sentiment(polarity=-0.13333333333333333, subjectivity=0.30833333333333335)\n",
      "\n",
      "RT @kylegriffin1: Ex-U.S. Atty. Chuck Rosenberg: \"The Trump Org. more and more appears to be a criminal organization … What the WSJ appears…\n",
      "Sentiment(polarity=0.19999999999999998, subjectivity=0.5166666666666667)\n",
      "\n",
      "RT @DeadlineWH: \"Donald Trump has been engaged in a DAY LONG rolling, rambling and rage filled commentary on his own legal fate and the sen…\n",
      "Sentiment(polarity=0.2875, subjectivity=0.625)\n",
      "\n",
      "RT @Politicsinsider: Michael Cohen is emerging as an invaluable asset in a new criminal investigation into Trump’s inauguration spending ht…\n",
      "Sentiment(polarity=-0.13181818181818183, subjectivity=0.5022727272727273)\n",
      "\n",
      "RT @MajidiDaryoush: 2/2 the #Taliban is reported days after #US President Trump asked for #Pakistan’s help with Afghan peace talks in a let…\n",
      "Sentiment(polarity=0.0, subjectivity=0.0)\n",
      "\n",
      "RT @CyrusMMcQueen: “What Does Melania Trump’s Blonde Hair Mean?” I think it means she caught her husband staring at Ivanka a lil too long..…\n",
      "Sentiment(polarity=-0.15625, subjectivity=0.34375)\n",
      "\n",
      "RT @aterkel: SCOOP from @svdate: Trump is considering Kushner for chief of staff. Kushner met with Trump Wednesday about the job https://t.…\n",
      "Sentiment(polarity=0.0, subjectivity=0.0)\n",
      "\n",
      "RT @DineshDSouza: Not since 1860 have @TheDemocrats so fanatically refused to accept the result of a free election.\n",
      "\n",
      "Then, their target was…\n",
      "Sentiment(polarity=0.4, subjectivity=0.8)\n",
      "\n",
      "RT @matthewamiller: So Donald Trump's private business, campaign, transition, inaugural committee, and White House are all under criminal i…\n",
      "Sentiment(polarity=-0.13333333333333333, subjectivity=0.30833333333333335)\n",
      "\n",
      "RT @krassenstein: If you thought the man's heart could not get any smaller, think again:\n",
      "\n",
      "https://t.co/GuzN9s8Ztv\n",
      "Sentiment(polarity=0.0, subjectivity=0.5)\n",
      "\n",
      "RT @ACTBrigitte: Good. The enemy of the people have no business partying in the people's house. https://t.co/vp0UnIYeWq\n",
      "Sentiment(polarity=0.7, subjectivity=0.6000000000000001)\n",
      "\n",
      "RT @Lawrence: The only thing you need to know about Melania is ... \n",
      "\n",
      "she’s a Trump. \n",
      "\n",
      "A Trump by choice.\n",
      "Sentiment(polarity=0.0, subjectivity=1.0)\n",
      "\n",
      "Trump being “in the room where it happened” means that Individual-1 hatched the conspiracy to commit felonious frau… https://t.co/u6kjMCvg6U\n",
      "Sentiment(polarity=0.0, subjectivity=0.0)\n",
      "\n",
      "RT @OMGno2trump: Over 70% of people eligible for Obamacare financial assistance don’t know about the enrollment deadline. Because Trump, th…\n",
      "Sentiment(polarity=0.0, subjectivity=0.0)\n",
      "\n"
     ]
    }
   ],
   "source": [
    "for tweet in public_tweets:\n",
    "    print(tweet.text)\n",
    "    \n",
    "    #Applying Sentiment Analysis\n",
    "    analysis = TextBlob(tweet.text)\n",
    "    print(analysis.sentiment)\n",
    "    print(\"\")     # Empty line"
   ]
  },
  {
   "cell_type": "code",
   "execution_count": 27,
   "metadata": {},
   "outputs": [
    {
     "data": {
      "text/plain": [
       "textblob.blob.TextBlob"
      ]
     },
     "execution_count": 27,
     "metadata": {},
     "output_type": "execute_result"
    }
   ],
   "source": [
    "type(analysis)"
   ]
  },
  {
   "cell_type": "code",
   "execution_count": null,
   "metadata": {},
   "outputs": [],
   "source": []
  }
 ],
 "metadata": {
  "kernelspec": {
   "display_name": "Python 3",
   "language": "python",
   "name": "python3"
  },
  "language_info": {
   "codemirror_mode": {
    "name": "ipython",
    "version": 3
   },
   "file_extension": ".py",
   "mimetype": "text/x-python",
   "name": "python",
   "nbconvert_exporter": "python",
   "pygments_lexer": "ipython3",
   "version": "3.6.5"
  }
 },
 "nbformat": 4,
 "nbformat_minor": 2
}
